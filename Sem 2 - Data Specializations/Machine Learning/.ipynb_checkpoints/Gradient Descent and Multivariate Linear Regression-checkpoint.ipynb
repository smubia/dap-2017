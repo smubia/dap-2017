{
 "cells": [
  {
   "cell_type": "markdown",
   "metadata": {},
   "source": [
    "# Lets try our hand at Multivariate Linear Regression\n",
    "## Using the `make_regression` function as data\n",
    "Note: we did not split the dataset, as this is just an illustration of using the `make_regression` function.\n",
    "Also, note how we can just pass in  ndarrays into the regression model, and skipping the pandas dataframe conversion."
   ]
  },
  {
   "cell_type": "code",
   "execution_count": 1,
   "metadata": {},
   "outputs": [
    {
     "data": {
      "text/plain": [
       "array([ 45.70587613,   0.        ,   0.        ,   0.        ,   0.        ])"
      ]
     },
     "execution_count": 1,
     "metadata": {},
     "output_type": "execute_result"
    }
   ],
   "source": [
    "import numpy as np\n",
    "import pandas as pd\n",
    "from sklearn.datasets import make_regression\n",
    "from sklearn import linear_model\n",
    "\n",
    "# Generate our random regression data\n",
    "# We perform destructuring assignment of the output of the make_regression function\n",
    "# X and y is our training examples where X is the features (i.e. indepdent variables)\n",
    "# and y is the dependent variable\n",
    "# coef is the \n",
    "X, y, coef = make_regression(n_samples=100, n_features=5,\n",
    "                          n_informative=1, noise=10,\n",
    "                          coef=True, random_state=0)\n",
    "coef "
   ]
  },
  {
   "cell_type": "code",
   "execution_count": 2,
   "metadata": {},
   "outputs": [
    {
     "data": {
      "text/plain": [
       "(100, 5)"
      ]
     },
     "execution_count": 2,
     "metadata": {},
     "output_type": "execute_result"
    }
   ],
   "source": [
    "X.shape"
   ]
  },
  {
   "cell_type": "code",
   "execution_count": 3,
   "metadata": {},
   "outputs": [
    {
     "data": {
      "text/plain": [
       "(100,)"
      ]
     },
     "execution_count": 3,
     "metadata": {},
     "output_type": "execute_result"
    }
   ],
   "source": [
    "y.shape"
   ]
  },
  {
   "cell_type": "code",
   "execution_count": 4,
   "metadata": {},
   "outputs": [
    {
     "data": {
      "text/plain": [
       "array([  4.58448502e+01,  -8.45538675e-03,  -2.38412637e+00,\n",
       "         5.91382877e-01,  -6.86280983e-01])"
      ]
     },
     "execution_count": 4,
     "metadata": {},
     "output_type": "execute_result"
    }
   ],
   "source": [
    "reg = linear_model.LinearRegression()\n",
    "# no need to load the data into a pandas dataframe, since it's already nicely generated for us\n",
    "reg.fit(X, y)\n",
    "\n",
    "# this prints out the coefficients of our independent variables (i.e. features). 5 features --> 5 coefficients\n",
    "reg.coef_ "
   ]
  },
  {
   "cell_type": "code",
   "execution_count": 5,
   "metadata": {},
   "outputs": [
    {
     "data": {
      "text/plain": [
       "-2.0738422536129955"
      ]
     },
     "execution_count": 5,
     "metadata": {},
     "output_type": "execute_result"
    }
   ],
   "source": [
    "reg.intercept_ #our y intercept"
   ]
  },
  {
   "cell_type": "markdown",
   "metadata": {},
   "source": [
    "Food for thought: Why is the coefficient printed out in line 1 different from that of line 4?\n",
    "\n",
    "ANSWER: Because we introduced noise in the `make_regression` function! "
   ]
  },
  {
   "cell_type": "code",
   "execution_count": 6,
   "metadata": {},
   "outputs": [
    {
     "data": {
      "text/plain": [
       "{'copy_X': True, 'fit_intercept': True, 'n_jobs': 1, 'normalize': False}"
      ]
     },
     "execution_count": 6,
     "metadata": {},
     "output_type": "execute_result"
    }
   ],
   "source": [
    "reg.get_params()  \n",
    "#fetches the parameters of the linear regression model estimator, in case you want to check your model's 'settings'"
   ]
  },
  {
   "cell_type": "code",
   "execution_count": 7,
   "metadata": {},
   "outputs": [
    {
     "data": {
      "text/plain": [
       "(1, 5)"
      ]
     },
     "execution_count": 7,
     "metadata": {},
     "output_type": "execute_result"
    }
   ],
   "source": [
    "# reg.predict()\n",
    "predict_for_me = np.array([[5,5,5,5,5]]) # Create a 1x5 dimension array\n",
    "predict_for_me.shape"
   ]
  },
  {
   "cell_type": "code",
   "execution_count": 8,
   "metadata": {},
   "outputs": [
    {
     "data": {
      "text/plain": [
       "array([ 214.7130094])"
      ]
     },
     "execution_count": 8,
     "metadata": {},
     "output_type": "execute_result"
    }
   ],
   "source": [
    "reg.predict(predict_for_me)"
   ]
  },
  {
   "cell_type": "markdown",
   "metadata": {},
   "source": [
    "## Using the `load_linnerud` function as data"
   ]
  },
  {
   "cell_type": "code",
   "execution_count": 9,
   "metadata": {},
   "outputs": [
    {
     "name": "stdout",
     "output_type": "stream",
     "text": [
      "{'DESCR': 'Linnerrud dataset\\n'\n",
      "          '=================\\n'\n",
      "          '\\n'\n",
      "          'Notes\\n'\n",
      "          '-----\\n'\n",
      "          'Data Set Characteristics:\\n'\n",
      "          '    :Number of Instances: 20\\n'\n",
      "          '    :Number of Attributes: 3\\n'\n",
      "          '    :Missing Attribute Values: None\\n'\n",
      "          '\\n'\n",
      "          'The Linnerud dataset constains two small dataset:\\n'\n",
      "          '\\n'\n",
      "          '- *exercise*: A list containing the following components: exercise '\n",
      "          'data with\\n'\n",
      "          '  20 observations on 3 exercise variables: Weight, Waist and '\n",
      "          'Pulse.\\n'\n",
      "          '\\n'\n",
      "          '- *physiological*: Data frame with 20 observations on 3 '\n",
      "          'physiological variables:\\n'\n",
      "          '   Chins, Situps and Jumps.\\n'\n",
      "          '\\n'\n",
      "          'References\\n'\n",
      "          '----------\\n'\n",
      "          '  * Tenenhaus, M. (1998). La regression PLS: theorie et pratique. '\n",
      "          'Paris: Editions Technic.\\n',\n",
      " 'data': array([[   5.,  162.,   60.],\n",
      "       [   2.,  110.,   60.],\n",
      "       [  12.,  101.,  101.],\n",
      "       [  12.,  105.,   37.],\n",
      "       [  13.,  155.,   58.],\n",
      "       [   4.,  101.,   42.],\n",
      "       [   8.,  101.,   38.],\n",
      "       [   6.,  125.,   40.],\n",
      "       [  15.,  200.,   40.],\n",
      "       [  17.,  251.,  250.],\n",
      "       [  17.,  120.,   38.],\n",
      "       [  13.,  210.,  115.],\n",
      "       [  14.,  215.,  105.],\n",
      "       [   1.,   50.,   50.],\n",
      "       [   6.,   70.,   31.],\n",
      "       [  12.,  210.,  120.],\n",
      "       [   4.,   60.,   25.],\n",
      "       [  11.,  230.,   80.],\n",
      "       [  15.,  225.,   73.],\n",
      "       [   2.,  110.,   43.]]),\n",
      " 'feature_names': ['Chins', 'Situps', 'Jumps'],\n",
      " 'target': array([[ 191.,   36.,   50.],\n",
      "       [ 189.,   37.,   52.],\n",
      "       [ 193.,   38.,   58.],\n",
      "       [ 162.,   35.,   62.],\n",
      "       [ 189.,   35.,   46.],\n",
      "       [ 182.,   36.,   56.],\n",
      "       [ 211.,   38.,   56.],\n",
      "       [ 167.,   34.,   60.],\n",
      "       [ 176.,   31.,   74.],\n",
      "       [ 154.,   33.,   56.],\n",
      "       [ 169.,   34.,   50.],\n",
      "       [ 166.,   33.,   52.],\n",
      "       [ 154.,   34.,   64.],\n",
      "       [ 247.,   46.,   50.],\n",
      "       [ 193.,   36.,   46.],\n",
      "       [ 202.,   37.,   62.],\n",
      "       [ 176.,   37.,   54.],\n",
      "       [ 157.,   32.,   52.],\n",
      "       [ 156.,   33.,   54.],\n",
      "       [ 138.,   33.,   68.]]),\n",
      " 'target_names': ['Weight', 'Waist', 'Pulse']}\n"
     ]
    }
   ],
   "source": [
    "from sklearn.datasets import load_linnerud\n",
    "from sklearn.metrics import mean_squared_error, r2_score\n",
    "import pprint \n",
    "dataset = load_linnerud()\n",
    "pprint.pprint(dataset)"
   ]
  },
  {
   "cell_type": "code",
   "execution_count": 10,
   "metadata": {},
   "outputs": [
    {
     "name": "stdout",
     "output_type": "stream",
     "text": [
      "Linnerrud dataset\n",
      "=================\n",
      "\n",
      "Notes\n",
      "-----\n",
      "Data Set Characteristics:\n",
      "    :Number of Instances: 20\n",
      "    :Number of Attributes: 3\n",
      "    :Missing Attribute Values: None\n",
      "\n",
      "The Linnerud dataset constains two small dataset:\n",
      "\n",
      "- *exercise*: A list containing the following components: exercise data with\n",
      "  20 observations on 3 exercise variables: Weight, Waist and Pulse.\n",
      "\n",
      "- *physiological*: Data frame with 20 observations on 3 physiological variables:\n",
      "   Chins, Situps and Jumps.\n",
      "\n",
      "References\n",
      "----------\n",
      "  * Tenenhaus, M. (1998). La regression PLS: theorie et pratique. Paris: Editions Technic.\n",
      "\n"
     ]
    }
   ],
   "source": [
    "print(dataset.DESCR)"
   ]
  },
  {
   "cell_type": "code",
   "execution_count": 11,
   "metadata": {},
   "outputs": [
    {
     "name": "stdout",
     "output_type": "stream",
     "text": [
      "(20, 3)\n"
     ]
    }
   ],
   "source": [
    "print(dataset.data.shape)"
   ]
  },
  {
   "cell_type": "code",
   "execution_count": 12,
   "metadata": {},
   "outputs": [
    {
     "name": "stdout",
     "output_type": "stream",
     "text": [
      "(20, 3)\n"
     ]
    }
   ],
   "source": [
    "print(dataset.target.shape)"
   ]
  },
  {
   "cell_type": "code",
   "execution_count": 13,
   "metadata": {},
   "outputs": [
    {
     "data": {
      "text/html": [
       "<div>\n",
       "<style>\n",
       "    .dataframe thead tr:only-child th {\n",
       "        text-align: right;\n",
       "    }\n",
       "\n",
       "    .dataframe thead th {\n",
       "        text-align: left;\n",
       "    }\n",
       "\n",
       "    .dataframe tbody tr th {\n",
       "        vertical-align: top;\n",
       "    }\n",
       "</style>\n",
       "<table border=\"1\" class=\"dataframe\">\n",
       "  <thead>\n",
       "    <tr style=\"text-align: right;\">\n",
       "      <th></th>\n",
       "      <th>Chins</th>\n",
       "      <th>Situps</th>\n",
       "      <th>Jumps</th>\n",
       "    </tr>\n",
       "  </thead>\n",
       "  <tbody>\n",
       "    <tr>\n",
       "      <th>0</th>\n",
       "      <td>5.0</td>\n",
       "      <td>162.0</td>\n",
       "      <td>60.0</td>\n",
       "    </tr>\n",
       "    <tr>\n",
       "      <th>1</th>\n",
       "      <td>2.0</td>\n",
       "      <td>110.0</td>\n",
       "      <td>60.0</td>\n",
       "    </tr>\n",
       "    <tr>\n",
       "      <th>2</th>\n",
       "      <td>12.0</td>\n",
       "      <td>101.0</td>\n",
       "      <td>101.0</td>\n",
       "    </tr>\n",
       "    <tr>\n",
       "      <th>3</th>\n",
       "      <td>12.0</td>\n",
       "      <td>105.0</td>\n",
       "      <td>37.0</td>\n",
       "    </tr>\n",
       "    <tr>\n",
       "      <th>4</th>\n",
       "      <td>13.0</td>\n",
       "      <td>155.0</td>\n",
       "      <td>58.0</td>\n",
       "    </tr>\n",
       "  </tbody>\n",
       "</table>\n",
       "</div>"
      ],
      "text/plain": [
       "   Chins  Situps  Jumps\n",
       "0    5.0   162.0   60.0\n",
       "1    2.0   110.0   60.0\n",
       "2   12.0   101.0  101.0\n",
       "3   12.0   105.0   37.0\n",
       "4   13.0   155.0   58.0"
      ]
     },
     "execution_count": 13,
     "metadata": {},
     "output_type": "execute_result"
    }
   ],
   "source": [
    "# We can put them in a table format if we want to have feel of how it looks\n",
    "dfx = pd.DataFrame(data=dataset.data, columns=dataset.feature_names)\n",
    "dfx.head()"
   ]
  },
  {
   "cell_type": "code",
   "execution_count": 14,
   "metadata": {},
   "outputs": [
    {
     "data": {
      "text/html": [
       "<div>\n",
       "<style>\n",
       "    .dataframe thead tr:only-child th {\n",
       "        text-align: right;\n",
       "    }\n",
       "\n",
       "    .dataframe thead th {\n",
       "        text-align: left;\n",
       "    }\n",
       "\n",
       "    .dataframe tbody tr th {\n",
       "        vertical-align: top;\n",
       "    }\n",
       "</style>\n",
       "<table border=\"1\" class=\"dataframe\">\n",
       "  <thead>\n",
       "    <tr style=\"text-align: right;\">\n",
       "      <th></th>\n",
       "      <th>Weight</th>\n",
       "      <th>Waist</th>\n",
       "      <th>Pulse</th>\n",
       "    </tr>\n",
       "  </thead>\n",
       "  <tbody>\n",
       "    <tr>\n",
       "      <th>0</th>\n",
       "      <td>191.0</td>\n",
       "      <td>36.0</td>\n",
       "      <td>50.0</td>\n",
       "    </tr>\n",
       "    <tr>\n",
       "      <th>1</th>\n",
       "      <td>189.0</td>\n",
       "      <td>37.0</td>\n",
       "      <td>52.0</td>\n",
       "    </tr>\n",
       "    <tr>\n",
       "      <th>2</th>\n",
       "      <td>193.0</td>\n",
       "      <td>38.0</td>\n",
       "      <td>58.0</td>\n",
       "    </tr>\n",
       "    <tr>\n",
       "      <th>3</th>\n",
       "      <td>162.0</td>\n",
       "      <td>35.0</td>\n",
       "      <td>62.0</td>\n",
       "    </tr>\n",
       "    <tr>\n",
       "      <th>4</th>\n",
       "      <td>189.0</td>\n",
       "      <td>35.0</td>\n",
       "      <td>46.0</td>\n",
       "    </tr>\n",
       "  </tbody>\n",
       "</table>\n",
       "</div>"
      ],
      "text/plain": [
       "   Weight  Waist  Pulse\n",
       "0   191.0   36.0   50.0\n",
       "1   189.0   37.0   52.0\n",
       "2   193.0   38.0   58.0\n",
       "3   162.0   35.0   62.0\n",
       "4   189.0   35.0   46.0"
      ]
     },
     "execution_count": 14,
     "metadata": {},
     "output_type": "execute_result"
    }
   ],
   "source": [
    "dfy = pd.DataFrame(data=dataset.target, columns=dataset.target_names)\n",
    "dfy.head()"
   ]
  },
  {
   "cell_type": "code",
   "execution_count": 15,
   "metadata": {},
   "outputs": [
    {
     "data": {
      "text/html": [
       "<div>\n",
       "<style>\n",
       "    .dataframe thead tr:only-child th {\n",
       "        text-align: right;\n",
       "    }\n",
       "\n",
       "    .dataframe thead th {\n",
       "        text-align: left;\n",
       "    }\n",
       "\n",
       "    .dataframe tbody tr th {\n",
       "        vertical-align: top;\n",
       "    }\n",
       "</style>\n",
       "<table border=\"1\" class=\"dataframe\">\n",
       "  <thead>\n",
       "    <tr style=\"text-align: right;\">\n",
       "      <th></th>\n",
       "      <th>Chins</th>\n",
       "      <th>Situps</th>\n",
       "      <th>Jumps</th>\n",
       "      <th>Weight</th>\n",
       "      <th>Waist</th>\n",
       "      <th>Pulse</th>\n",
       "    </tr>\n",
       "  </thead>\n",
       "  <tbody>\n",
       "    <tr>\n",
       "      <th>0</th>\n",
       "      <td>5.0</td>\n",
       "      <td>162.0</td>\n",
       "      <td>60.0</td>\n",
       "      <td>191.0</td>\n",
       "      <td>36.0</td>\n",
       "      <td>50.0</td>\n",
       "    </tr>\n",
       "    <tr>\n",
       "      <th>1</th>\n",
       "      <td>2.0</td>\n",
       "      <td>110.0</td>\n",
       "      <td>60.0</td>\n",
       "      <td>189.0</td>\n",
       "      <td>37.0</td>\n",
       "      <td>52.0</td>\n",
       "    </tr>\n",
       "    <tr>\n",
       "      <th>2</th>\n",
       "      <td>12.0</td>\n",
       "      <td>101.0</td>\n",
       "      <td>101.0</td>\n",
       "      <td>193.0</td>\n",
       "      <td>38.0</td>\n",
       "      <td>58.0</td>\n",
       "    </tr>\n",
       "    <tr>\n",
       "      <th>3</th>\n",
       "      <td>12.0</td>\n",
       "      <td>105.0</td>\n",
       "      <td>37.0</td>\n",
       "      <td>162.0</td>\n",
       "      <td>35.0</td>\n",
       "      <td>62.0</td>\n",
       "    </tr>\n",
       "    <tr>\n",
       "      <th>4</th>\n",
       "      <td>13.0</td>\n",
       "      <td>155.0</td>\n",
       "      <td>58.0</td>\n",
       "      <td>189.0</td>\n",
       "      <td>35.0</td>\n",
       "      <td>46.0</td>\n",
       "    </tr>\n",
       "  </tbody>\n",
       "</table>\n",
       "</div>"
      ],
      "text/plain": [
       "   Chins  Situps  Jumps  Weight  Waist  Pulse\n",
       "0    5.0   162.0   60.0   191.0   36.0   50.0\n",
       "1    2.0   110.0   60.0   189.0   37.0   52.0\n",
       "2   12.0   101.0  101.0   193.0   38.0   58.0\n",
       "3   12.0   105.0   37.0   162.0   35.0   62.0\n",
       "4   13.0   155.0   58.0   189.0   35.0   46.0"
      ]
     },
     "execution_count": 15,
     "metadata": {},
     "output_type": "execute_result"
    }
   ],
   "source": [
    "df = dfx.join(dfy)\n",
    "df.head()\n",
    "\n",
    "# So, Chins, situps and Jumps are our features\n",
    "# And Weight, Waist, and Pulse are our targets (i.e. variables to predict)"
   ]
  },
  {
   "cell_type": "code",
   "execution_count": 16,
   "metadata": {},
   "outputs": [
    {
     "name": "stdout",
     "output_type": "stream",
     "text": [
      "(16, 6) (4, 6)\n"
     ]
    }
   ],
   "source": [
    "df_train=df.sample(frac=0.8,random_state=200) \n",
    "df_score=df.drop(df_train.index)\n",
    "print(df_train.shape, df_score.shape) #unfortunately, this dataset is quite small..."
   ]
  },
  {
   "cell_type": "code",
   "execution_count": 17,
   "metadata": {},
   "outputs": [
    {
     "name": "stdout",
     "output_type": "stream",
     "text": [
      "(16, 3) (16, 3)\n",
      "(4, 3) (4, 3)\n"
     ]
    }
   ],
   "source": [
    "# Let's reshape this into our features and targets\n",
    "train_x = df_train[['Chins', 'Situps','Jumps']].values.reshape(-1, 3)  #the number of rows is not specified, hence -1\n",
    "train_y = df_train[['Weight', 'Waist','Pulse']].values.reshape(-1, 3)  #Y\n",
    "print(train_x.shape, train_y.shape)\n",
    "\n",
    "score_x = df_score[['Chins', 'Situps','Jumps']].values.reshape(-1, 3)  #the number of rows is not specified, hence -1\n",
    "score_y = df_score[['Weight', 'Waist','Pulse']].values.reshape(-1, 3)  #Y\n",
    "print(score_x.shape, score_y.shape)"
   ]
  },
  {
   "cell_type": "code",
   "execution_count": 18,
   "metadata": {},
   "outputs": [
    {
     "data": {
      "text/plain": [
       "array([[-0.2796632 , -0.30945104,  0.32228343],\n",
       "       [-0.12653769, -0.05046425,  0.06380484],\n",
       "       [ 0.62135825,  0.01865561, -0.07862093]])"
      ]
     },
     "execution_count": 18,
     "metadata": {},
     "output_type": "execute_result"
    }
   ],
   "source": [
    "# We don't really need to use the dataframe we made, since the data is already prepared for us in ndarrays \n",
    "# and separated from feature/target names.\n",
    "# So we'll use the data provided in the sklearn dataset directly\n",
    "\n",
    "reg = linear_model.LinearRegression()\n",
    "# no need to load the data into a pandas dataframe, since it's already nicely generated for us\n",
    "reg.fit(train_x, train_y)\n",
    "\n",
    "# this prints out the coefficients of our independent variables (i.e. features). 5 features --> 5 coefficients\n",
    "reg.coef_ "
   ]
  },
  {
   "cell_type": "code",
   "execution_count": 19,
   "metadata": {},
   "outputs": [
    {
     "data": {
      "text/plain": [
       "314.6571307806442"
      ]
     },
     "execution_count": 19,
     "metadata": {},
     "output_type": "execute_result"
    }
   ],
   "source": [
    "prediction = reg.predict(score_x)\n",
    "\n",
    "mean_squared_error(prediction,score_y)"
   ]
  },
  {
   "cell_type": "code",
   "execution_count": 20,
   "metadata": {},
   "outputs": [
    {
     "name": "stderr",
     "output_type": "stream",
     "text": [
      "C:\\Users\\TzeYiing\\Anaconda3\\lib\\site-packages\\sklearn\\metrics\\regression.py:482: DeprecationWarning: Default 'multioutput' behavior now corresponds to 'variance_weighted' value which is deprecated since 0.17, it will be changed to 'uniform_average' starting from 0.19.\n",
      "  DeprecationWarning)\n"
     ]
    },
    {
     "data": {
      "text/plain": [
       "-3.7033868140054853"
      ]
     },
     "execution_count": 20,
     "metadata": {},
     "output_type": "execute_result"
    }
   ],
   "source": [
    "r2_score(prediction,score_y)"
   ]
  },
  {
   "cell_type": "code",
   "execution_count": 21,
   "metadata": {},
   "outputs": [
    {
     "data": {
      "text/plain": [
       "array([ 206.78149037,   39.85959778,   54.26568249])"
      ]
     },
     "execution_count": 21,
     "metadata": {},
     "output_type": "execute_result"
    }
   ],
   "source": [
    "reg.intercept_ #Note the 3 intercepts, one for each target"
   ]
  },
  {
   "cell_type": "markdown",
   "metadata": {},
   "source": [
    "# Gradient Descent, Yo!\n",
    "## Applying it to a univariate function\n",
    "\n",
    "$f(x)=x^{4}-3x^{3}+2$ will have a derivative of $f(x)=4x^{3}-9x^{2}$"
   ]
  },
  {
   "cell_type": "code",
   "execution_count": 22,
   "metadata": {},
   "outputs": [
    {
     "name": "stdout",
     "output_type": "stream",
     "text": [
      "The local minimum occurs at 2.249996\n"
     ]
    }
   ],
   "source": [
    "current_x = 6 #starting x variable\n",
    "alpha = 0.01 #learning rate\n",
    "precision = 0.000001  # the limit of the smallest step that we want the algorithm to take.\n",
    "previous_step_size = current_x\n",
    "\n",
    "der = lambda x: 4 * x**3 - 9 * x**2\n",
    "\n",
    "while previous_step_size > precision: #stop once the step size reaches our precision cut-off\n",
    "    prev_x = current_x\n",
    "    current_x += - alpha * der(prev_x)  # this is the same as current_x = current_x - alpha * fn(prev_x)\n",
    "    previous_step_size = abs(current_x - prev_x)\n",
    "    \n",
    "print(\"The local minimum occurs at %f\" % current_x)"
   ]
  },
  {
   "cell_type": "code",
   "execution_count": null,
   "metadata": {
    "collapsed": true
   },
   "outputs": [],
   "source": []
  }
 ],
 "metadata": {
  "kernelspec": {
   "display_name": "Python 3",
   "language": "python",
   "name": "python3"
  },
  "language_info": {
   "codemirror_mode": {
    "name": "ipython",
    "version": 3
   },
   "file_extension": ".py",
   "mimetype": "text/x-python",
   "name": "python",
   "nbconvert_exporter": "python",
   "pygments_lexer": "ipython3",
   "version": "3.6.1"
  }
 },
 "nbformat": 4,
 "nbformat_minor": 2
}
